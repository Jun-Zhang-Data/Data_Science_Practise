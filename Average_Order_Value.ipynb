{
 "cells": [
  {
   "cell_type": "code",
   "execution_count": 1,
   "id": "cec84057",
   "metadata": {},
   "outputs": [],
   "source": [
    "import pandas as pd"
   ]
  },
  {
   "cell_type": "code",
   "execution_count": 2,
   "id": "50d6c0e7",
   "metadata": {},
   "outputs": [],
   "source": [
    "data = pd.read_csv('2019_Winter_Data_Science_Intern_Challenge_Data_Set_Sheet1.csv')"
   ]
  },
  {
   "cell_type": "code",
   "execution_count": 3,
   "id": "e0020062",
   "metadata": {},
   "outputs": [
    {
     "data": {
      "text/html": [
       "<div>\n",
       "<style scoped>\n",
       "    .dataframe tbody tr th:only-of-type {\n",
       "        vertical-align: middle;\n",
       "    }\n",
       "\n",
       "    .dataframe tbody tr th {\n",
       "        vertical-align: top;\n",
       "    }\n",
       "\n",
       "    .dataframe thead th {\n",
       "        text-align: right;\n",
       "    }\n",
       "</style>\n",
       "<table border=\"1\" class=\"dataframe\">\n",
       "  <thead>\n",
       "    <tr style=\"text-align: right;\">\n",
       "      <th></th>\n",
       "      <th>order_id</th>\n",
       "      <th>shop_id</th>\n",
       "      <th>user_id</th>\n",
       "      <th>order_amount</th>\n",
       "      <th>total_items</th>\n",
       "    </tr>\n",
       "  </thead>\n",
       "  <tbody>\n",
       "    <tr>\n",
       "      <th>count</th>\n",
       "      <td>5000.000000</td>\n",
       "      <td>5000.000000</td>\n",
       "      <td>5000.000000</td>\n",
       "      <td>5000.000000</td>\n",
       "      <td>5000.00000</td>\n",
       "    </tr>\n",
       "    <tr>\n",
       "      <th>mean</th>\n",
       "      <td>2500.500000</td>\n",
       "      <td>50.078800</td>\n",
       "      <td>849.092400</td>\n",
       "      <td>3145.128000</td>\n",
       "      <td>8.78720</td>\n",
       "    </tr>\n",
       "    <tr>\n",
       "      <th>std</th>\n",
       "      <td>1443.520003</td>\n",
       "      <td>29.006118</td>\n",
       "      <td>87.798982</td>\n",
       "      <td>41282.539349</td>\n",
       "      <td>116.32032</td>\n",
       "    </tr>\n",
       "    <tr>\n",
       "      <th>min</th>\n",
       "      <td>1.000000</td>\n",
       "      <td>1.000000</td>\n",
       "      <td>607.000000</td>\n",
       "      <td>90.000000</td>\n",
       "      <td>1.00000</td>\n",
       "    </tr>\n",
       "    <tr>\n",
       "      <th>25%</th>\n",
       "      <td>1250.750000</td>\n",
       "      <td>24.000000</td>\n",
       "      <td>775.000000</td>\n",
       "      <td>163.000000</td>\n",
       "      <td>1.00000</td>\n",
       "    </tr>\n",
       "    <tr>\n",
       "      <th>50%</th>\n",
       "      <td>2500.500000</td>\n",
       "      <td>50.000000</td>\n",
       "      <td>849.000000</td>\n",
       "      <td>284.000000</td>\n",
       "      <td>2.00000</td>\n",
       "    </tr>\n",
       "    <tr>\n",
       "      <th>75%</th>\n",
       "      <td>3750.250000</td>\n",
       "      <td>75.000000</td>\n",
       "      <td>925.000000</td>\n",
       "      <td>390.000000</td>\n",
       "      <td>3.00000</td>\n",
       "    </tr>\n",
       "    <tr>\n",
       "      <th>max</th>\n",
       "      <td>5000.000000</td>\n",
       "      <td>100.000000</td>\n",
       "      <td>999.000000</td>\n",
       "      <td>704000.000000</td>\n",
       "      <td>2000.00000</td>\n",
       "    </tr>\n",
       "  </tbody>\n",
       "</table>\n",
       "</div>"
      ],
      "text/plain": [
       "          order_id      shop_id      user_id   order_amount  total_items\n",
       "count  5000.000000  5000.000000  5000.000000    5000.000000   5000.00000\n",
       "mean   2500.500000    50.078800   849.092400    3145.128000      8.78720\n",
       "std    1443.520003    29.006118    87.798982   41282.539349    116.32032\n",
       "min       1.000000     1.000000   607.000000      90.000000      1.00000\n",
       "25%    1250.750000    24.000000   775.000000     163.000000      1.00000\n",
       "50%    2500.500000    50.000000   849.000000     284.000000      2.00000\n",
       "75%    3750.250000    75.000000   925.000000     390.000000      3.00000\n",
       "max    5000.000000   100.000000   999.000000  704000.000000   2000.00000"
      ]
     },
     "execution_count": 3,
     "metadata": {},
     "output_type": "execute_result"
    }
   ],
   "source": [
    "data.describe()"
   ]
  },
  {
   "cell_type": "code",
   "execution_count": 4,
   "id": "038be2be",
   "metadata": {},
   "outputs": [
    {
     "data": {
      "text/plain": [
       "False"
      ]
     },
     "execution_count": 4,
     "metadata": {},
     "output_type": "execute_result"
    }
   ],
   "source": [
    "pd.Series(data['user_id']).is_unique"
   ]
  },
  {
   "cell_type": "code",
   "execution_count": 5,
   "id": "65639bb5",
   "metadata": {},
   "outputs": [
    {
     "data": {
      "text/plain": [
       "100"
      ]
     },
     "execution_count": 5,
     "metadata": {},
     "output_type": "execute_result"
    }
   ],
   "source": [
    "data['shop_id'].nunique()"
   ]
  },
  {
   "cell_type": "code",
   "execution_count": 6,
   "id": "02d54a24",
   "metadata": {},
   "outputs": [],
   "source": [
    "data['created_at'] = pd.to_datetime(data['created_at']).dt.date"
   ]
  },
  {
   "cell_type": "code",
   "execution_count": 7,
   "id": "e4924ff4",
   "metadata": {},
   "outputs": [
    {
     "data": {
      "image/png": "[encoded data removed]",
      "text/plain": [
       "<Figure size 432x288 with 1 Axes>"
      ]
     },
     "metadata": {
      "needs_background": "light"
     },
     "output_type": "display_data"
    }
   ],
   "source": [
    "import pandas as pd\n",
    "import matplotlib.pyplot as plt\n",
    "\n",
    "data.plot(x ='user_id', y='order_amount', kind = 'scatter')\n",
    "plt.show()"
   ]
  },
  {
   "cell_type": "code",
   "execution_count": 8,
   "id": "734ba8ac",
   "metadata": {},
   "outputs": [
    {
     "name": "stdout",
     "output_type": "stream",
     "text": [
      "Old Shape:  (5000, 7)\n"
     ]
    }
   ],
   "source": [
    "import numpy as np\n",
    "\n",
    "Q1 = np.percentile(data['order_amount'], 25,\n",
    "                   interpolation = 'midpoint')\n",
    " \n",
    "Q3 = np.percentile(data['order_amount'], 75,\n",
    "                   interpolation = 'midpoint')\n",
    "IQR = Q3 - Q1\n",
    "IQR \n",
    "print(\"Old Shape: \", data.shape)\n",
    " "
   ]
  },
  {
   "cell_type": "code",
   "execution_count": 9,
   "id": "2d0e93af",
   "metadata": {},
   "outputs": [
    {
     "name": "stdout",
     "output_type": "stream",
     "text": [
      "New Shape:  (4859, 7)\n"
     ]
    }
   ],
   "source": [
    "# Upper bound\n",
    "upper = np.where(data['order_amount'] >= (Q3+1.5*IQR))\n",
    "# Lower bound\n",
    "lower = np.where(data['order_amount'] <= (Q1-1.5*IQR))\n",
    "\n",
    "data.drop(upper[0], inplace = True)\n",
    "data.drop(lower[0], inplace = True)\n",
    " \n",
    "print(\"New Shape: \", data.shape)\n"
   ]
  },
  {
   "cell_type": "code",
   "execution_count": null,
   "id": "af9135c5",
   "metadata": {},
   "outputs": [],
   "source": [
    "Total = data['order_amount'].sum()\n",
    "Total/4859"
   ]
  },
  {
   "cell_type": "code",
   "execution_count": 11,
   "id": "408256c8",
   "metadata": {},
   "outputs": [
    {
     "data": {
      "text/html": [
       "<div>\n",
       "<style scoped>\n",
       "    .dataframe tbody tr th:only-of-type {\n",
       "        vertical-align: middle;\n",
       "    }\n",
       "\n",
       "    .dataframe tbody tr th {\n",
       "        vertical-align: top;\n",
       "    }\n",
       "\n",
       "    .dataframe thead th {\n",
       "        text-align: right;\n",
       "    }\n",
       "</style>\n",
       "<table border=\"1\" class=\"dataframe\">\n",
       "  <thead>\n",
       "    <tr style=\"text-align: right;\">\n",
       "      <th></th>\n",
       "      <th>order_id</th>\n",
       "      <th>shop_id</th>\n",
       "      <th>user_id</th>\n",
       "      <th>order_amount</th>\n",
       "      <th>total_items</th>\n",
       "    </tr>\n",
       "  </thead>\n",
       "  <tbody>\n",
       "    <tr>\n",
       "      <th>count</th>\n",
       "      <td>4859.000000</td>\n",
       "      <td>4859.000000</td>\n",
       "      <td>4859.000000</td>\n",
       "      <td>4859.000000</td>\n",
       "      <td>4859.000000</td>\n",
       "    </tr>\n",
       "    <tr>\n",
       "      <th>mean</th>\n",
       "      <td>2497.395966</td>\n",
       "      <td>49.852645</td>\n",
       "      <td>849.905742</td>\n",
       "      <td>293.715374</td>\n",
       "      <td>1.950196</td>\n",
       "    </tr>\n",
       "    <tr>\n",
       "      <th>std</th>\n",
       "      <td>1443.356555</td>\n",
       "      <td>29.049171</td>\n",
       "      <td>86.887496</td>\n",
       "      <td>144.453395</td>\n",
       "      <td>0.919791</td>\n",
       "    </tr>\n",
       "    <tr>\n",
       "      <th>min</th>\n",
       "      <td>1.000000</td>\n",
       "      <td>1.000000</td>\n",
       "      <td>700.000000</td>\n",
       "      <td>90.000000</td>\n",
       "      <td>1.000000</td>\n",
       "    </tr>\n",
       "    <tr>\n",
       "      <th>25%</th>\n",
       "      <td>1244.500000</td>\n",
       "      <td>24.000000</td>\n",
       "      <td>776.000000</td>\n",
       "      <td>162.000000</td>\n",
       "      <td>1.000000</td>\n",
       "    </tr>\n",
       "    <tr>\n",
       "      <th>50%</th>\n",
       "      <td>2498.000000</td>\n",
       "      <td>50.000000</td>\n",
       "      <td>850.000000</td>\n",
       "      <td>280.000000</td>\n",
       "      <td>2.000000</td>\n",
       "    </tr>\n",
       "    <tr>\n",
       "      <th>75%</th>\n",
       "      <td>3749.500000</td>\n",
       "      <td>74.000000</td>\n",
       "      <td>925.000000</td>\n",
       "      <td>380.000000</td>\n",
       "      <td>3.000000</td>\n",
       "    </tr>\n",
       "    <tr>\n",
       "      <th>max</th>\n",
       "      <td>5000.000000</td>\n",
       "      <td>100.000000</td>\n",
       "      <td>999.000000</td>\n",
       "      <td>730.000000</td>\n",
       "      <td>5.000000</td>\n",
       "    </tr>\n",
       "  </tbody>\n",
       "</table>\n",
       "</div>"
      ],
      "text/plain": [
       "          order_id      shop_id      user_id  order_amount  total_items\n",
       "count  4859.000000  4859.000000  4859.000000   4859.000000  4859.000000\n",
       "mean   2497.395966    49.852645   849.905742    293.715374     1.950196\n",
       "std    1443.356555    29.049171    86.887496    144.453395     0.919791\n",
       "min       1.000000     1.000000   700.000000     90.000000     1.000000\n",
       "25%    1244.500000    24.000000   776.000000    162.000000     1.000000\n",
       "50%    2498.000000    50.000000   850.000000    280.000000     2.000000\n",
       "75%    3749.500000    74.000000   925.000000    380.000000     3.000000\n",
       "max    5000.000000   100.000000   999.000000    730.000000     5.000000"
      ]
     },
     "execution_count": 11,
     "metadata": {},
     "output_type": "execute_result"
    }
   ],
   "source": [
    "data.describe()"
   ]
  },
  {
   "cell_type": "markdown",
   "id": "bfaf24fa",
   "metadata": {},
   "source": [
    "## ---------------------------------------------------------------------------------------------"
   ]
  },
  {
   "cell_type": "markdown",
   "id": "dac9b502",
   "metadata": {},
   "source": [
    "# Data Science Questions \n",
    "##                                  Question 1:"
   ]
  },
  {
   "cell_type": "markdown",
   "id": "7fd61737",
   "metadata": {},
   "source": [
    "\n",
    "\n",
    "\n",
    "### a.Think about what could be going wrong with our calculation. Think about a better way to evaluate this data. \n",
    "\n",
    "#### Answer: The calculation was heavily effected by the outliers which are orders with extremely high order amount. If median is used instead of average, a more reasonale number can be found in the orginal data for representative order amount. Alternatively, I also removed the outliers from the data and calculated the AOV in the same manner, which also resulted in a reasonable representation of the order amount. \n",
    "\n",
    "\n",
    "\n",
    "### b. What metric would you report for this dataset?\n",
    "\n",
    "#### Answer: I chose the median of order amount. \n",
    "\n",
    "\n",
    "\n",
    "### c. What is its value?\n",
    "\n",
    "#### Answer: 284\n"
   ]
  },
  {
   "cell_type": "code",
   "execution_count": null,
   "id": "343fe961",
   "metadata": {},
   "outputs": [],
   "source": []
  }
 ],
 "metadata": {
  "kernelspec": {
   "display_name": "Python 3",
   "language": "python",
   "name": "python3"
  },
  "language_info": {
   "codemirror_mode": {
    "name": "ipython",
    "version": 3
   },
   "file_extension": ".py",
   "mimetype": "text/x-python",
   "name": "python",
   "nbconvert_exporter": "python",
   "pygments_lexer": "ipython3",
   "version": "3.7.10"
  }
 },
 "nbformat": 4,
 "nbformat_minor": 5
}
